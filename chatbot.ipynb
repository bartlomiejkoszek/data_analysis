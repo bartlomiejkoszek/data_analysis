{
  "nbformat": 4,
  "nbformat_minor": 0,
  "metadata": {
    "colab": {
      "provenance": [],
      "authorship_tag": "ABX9TyM5EbqJ8q380pyZQwrYwYch",
      "include_colab_link": true
    },
    "kernelspec": {
      "name": "python3",
      "display_name": "Python 3"
    },
    "language_info": {
      "name": "python"
    }
  },
  "cells": [
    {
      "cell_type": "markdown",
      "metadata": {
        "id": "view-in-github",
        "colab_type": "text"
      },
      "source": [
        "<a href=\"https://colab.research.google.com/github/bartlomiejkoszek/data_analysis/blob/main/chatbot.ipynb\" target=\"_parent\"><img src=\"https://colab.research.google.com/assets/colab-badge.svg\" alt=\"Open In Colab\"/></a>"
      ]
    },
    {
      "cell_type": "markdown",
      "source": [
        "random_responses"
      ],
      "metadata": {
        "id": "Hplv2UpbRZwv"
      }
    },
    {
      "cell_type": "code",
      "execution_count": null,
      "metadata": {
        "id": "YED7Oa2TEyfj"
      },
      "outputs": [],
      "source": [
        "import random\n",
        "import json\n",
        "import re # the functions in this module let you check if a particular string matches a given regular expression"
      ]
    },
    {
      "cell_type": "code",
      "source": [
        "#random responses if nothing will match\n",
        "def random_string():\n",
        "    random_list = [\n",
        "        \"Spróbuj proszę doprecyzować pytanie.\",\n",
        "        \"Niestety, do Twojego pytania nie pasuje żadna podpowiedź! Spróbuj ponownie lub skontaktuj się z nauczycielem.\"\n",
        "        \"Nie znalazłem żadnej podpowiedzi, spróbuj zadać pytanie jeszcze raz, doprecyzuj je!\"\n",
        "    ]\n",
        "\n",
        "    list_count = len(random_list)\n",
        "\n",
        "    random_item = random.randrange(list_count)\n",
        "\n",
        "    return random_list[random_item]"
      ],
      "metadata": {
        "id": "7X7pQDAZRsL9"
      },
      "execution_count": null,
      "outputs": []
    },
    {
      "cell_type": "code",
      "source": [
        "random_string()"
      ],
      "metadata": {
        "colab": {
          "base_uri": "https://localhost:8080/",
          "height": 53
        },
        "id": "oJGLEbBMRyQc",
        "outputId": "2985b99d-003f-4c50-917e-f086eff2e785"
      },
      "execution_count": null,
      "outputs": [
        {
          "output_type": "execute_result",
          "data": {
            "text/plain": [
              "'Niestety, do Twojego pytania nie pasuje żadna podpowiedź! Spróbuj ponownie lub skontaktuj się z nauczycielem.Nie znalazłem żadnej podpowiedzi, spróbuj zadać pytanie jeszcze raz, doprecyzuj je!'"
            ],
            "application/vnd.google.colaboratory.intrinsic+json": {
              "type": "string"
            }
          },
          "metadata": {},
          "execution_count": 95
        }
      ]
    },
    {
      "cell_type": "code",
      "source": [
        "#loading json file\n",
        "def load_json(file):\n",
        "  with open(file) as bot_responses:\n",
        "    print(f\"Loaded '{file}' successfully!\")\n",
        "    return json.load(bot_responses)"
      ],
      "metadata": {
        "id": "DVU5hJzYTxp-"
      },
      "execution_count": null,
      "outputs": []
    },
    {
      "cell_type": "code",
      "source": [
        "responses_data = load_json(\"bot.json\")"
      ],
      "metadata": {
        "colab": {
          "base_uri": "https://localhost:8080/"
        },
        "id": "jM0wmDWoUm0t",
        "outputId": "5d5c00c1-c02f-4a32-a094-44782d6b468b"
      },
      "execution_count": null,
      "outputs": [
        {
          "output_type": "stream",
          "name": "stdout",
          "text": [
            "Loaded 'bot.json' successfully!\n"
          ]
        }
      ]
    },
    {
      "cell_type": "code",
      "source": [
        "#scoring responses based on user's input to print the most acurate one\n",
        "def get_response(input_string):\n",
        "  #splitting user's message to the form we can process\n",
        "  split_message = re.split(r'\\s+|[,;?!.-]\\s*', input_string.lower()) #excluding punctuation marks + lower letters\n",
        "  score_list = []\n",
        "\n",
        "  for response in responses_data:\n",
        "    response_score = 0\n",
        "    required_score = 0\n",
        "    required_words = response[\"required_words\"]\n",
        "\n",
        "    #firstly - check if there are required words in the array (if required_words not empty)\n",
        "    if required_words:\n",
        "      for word in split_message:\n",
        "        if word in required_words:\n",
        "          required_score +=1 #if required_word in user's message, then required score ++\n",
        "\n",
        "    if required_score == len(required_words):\n",
        "      for word in split_message:\n",
        "        if word in response[\"user_input\"]:\n",
        "          response_score +=1 #if a word from user input is in response (JSON), then response_score ++\n",
        "\n",
        "    #Adding a result of fitting answer to the table score_list\n",
        "    score_list.append(response_score)\n",
        "\n",
        "  best_response = max(score_list) #index of best response\n",
        "  response_index = score_list.index(best_response)\n",
        "\n",
        "  #Return response form JSON, else random response if no response fits\n",
        "  if best_response != 0:\n",
        "    return responses_data[response_index][\"bot_response\"]\n",
        "\n",
        "  return random_responses.random_string()\n",
        "\n",
        "\n",
        "  while True:\n",
        "    user_input = input(\"You: \")\n",
        "    print(\"Bot: \", get_response(user_input))"
      ],
      "metadata": {
        "id": "jKzwMniAatzz"
      },
      "execution_count": null,
      "outputs": []
    },
    {
      "cell_type": "code",
      "source": [
        "get_response(\"skąd wziąć materiały?\")"
      ],
      "metadata": {
        "colab": {
          "base_uri": "https://localhost:8080/",
          "height": 35
        },
        "id": "9hgpJWqzlWnf",
        "outputId": "7bbf0f9e-468a-4eb1-e65f-7b2830bc1410"
      },
      "execution_count": null,
      "outputs": [
        {
          "output_type": "execute_result",
          "data": {
            "text/plain": [
              "'Materiały znajdziesz na naszym zespole MS Teams w zakładce Pliki.'"
            ],
            "application/vnd.google.colaboratory.intrinsic+json": {
              "type": "string"
            }
          },
          "metadata": {},
          "execution_count": 108
        }
      ]
    },
    {
      "cell_type": "code",
      "source": [
        "#Eksport do PDF\n",
        "!wget -nc https://raw.githubusercontent.com/brpy/colab-pdf/master/colab_pdf.py\n",
        "from colab_pdf import colab_pdf\n",
        "colab_pdf('chatbot.ipynb')"
      ],
      "metadata": {
        "colab": {
          "base_uri": "https://localhost:8080/",
          "height": 504
        },
        "id": "0h6Zn0UB8boO",
        "outputId": "dadf63cc-c0b5-4258-dd65-a9a8817d8a42"
      },
      "execution_count": null,
      "outputs": [
        {
          "output_type": "stream",
          "name": "stdout",
          "text": [
            "--2022-07-10 11:50:18--  https://raw.githubusercontent.com/brpy/colab-pdf/master/colab_pdf.py\n",
            "Resolving raw.githubusercontent.com (raw.githubusercontent.com)... 185.199.108.133, 185.199.109.133, 185.199.110.133, ...\n",
            "Connecting to raw.githubusercontent.com (raw.githubusercontent.com)|185.199.108.133|:443... connected.\n",
            "HTTP request sent, awaiting response... 200 OK\n",
            "Length: 1864 (1.8K) [text/plain]\n",
            "Saving to: ‘colab_pdf.py’\n",
            "\n",
            "\rcolab_pdf.py          0%[                    ]       0  --.-KB/s               \rcolab_pdf.py        100%[===================>]   1.82K  --.-KB/s    in 0s      \n",
            "\n",
            "2022-07-10 11:50:19 (33.1 MB/s) - ‘colab_pdf.py’ saved [1864/1864]\n",
            "\n",
            "Mounted at /content/drive/\n",
            "\n",
            "WARNING: apt does not have a stable CLI interface. Use with caution in scripts.\n",
            "\n",
            "\n",
            "WARNING: apt does not have a stable CLI interface. Use with caution in scripts.\n",
            "\n",
            "Extracting templates from packages: 100%\n",
            "[NbConvertApp] Converting notebook /content/drive/MyDrive/Colab Notebooks/chatbot.ipynb to pdf\n",
            "[NbConvertApp] Writing 30089 bytes to ./notebook.tex\n",
            "[NbConvertApp] Building PDF\n",
            "[NbConvertApp] Running xelatex 3 times: ['xelatex', './notebook.tex', '-quiet']\n",
            "[NbConvertApp] Running bibtex 1 time: ['bibtex', './notebook']\n",
            "[NbConvertApp] WARNING | bibtex had problems, most likely because there were no citations\n",
            "[NbConvertApp] PDF successfully created\n",
            "[NbConvertApp] Writing 35336 bytes to /content/drive/My Drive/chatbot.pdf\n"
          ]
        },
        {
          "output_type": "display_data",
          "data": {
            "text/plain": [
              "<IPython.core.display.Javascript object>"
            ],
            "application/javascript": [
              "\n",
              "    async function download(id, filename, size) {\n",
              "      if (!google.colab.kernel.accessAllowed) {\n",
              "        return;\n",
              "      }\n",
              "      const div = document.createElement('div');\n",
              "      const label = document.createElement('label');\n",
              "      label.textContent = `Downloading \"${filename}\": `;\n",
              "      div.appendChild(label);\n",
              "      const progress = document.createElement('progress');\n",
              "      progress.max = size;\n",
              "      div.appendChild(progress);\n",
              "      document.body.appendChild(div);\n",
              "\n",
              "      const buffers = [];\n",
              "      let downloaded = 0;\n",
              "\n",
              "      const channel = await google.colab.kernel.comms.open(id);\n",
              "      // Send a message to notify the kernel that we're ready.\n",
              "      channel.send({})\n",
              "\n",
              "      for await (const message of channel.messages) {\n",
              "        // Send a message to notify the kernel that we're ready.\n",
              "        channel.send({})\n",
              "        if (message.buffers) {\n",
              "          for (const buffer of message.buffers) {\n",
              "            buffers.push(buffer);\n",
              "            downloaded += buffer.byteLength;\n",
              "            progress.value = downloaded;\n",
              "          }\n",
              "        }\n",
              "      }\n",
              "      const blob = new Blob(buffers, {type: 'application/binary'});\n",
              "      const a = document.createElement('a');\n",
              "      a.href = window.URL.createObjectURL(blob);\n",
              "      a.download = filename;\n",
              "      div.appendChild(a);\n",
              "      a.click();\n",
              "      div.remove();\n",
              "    }\n",
              "  "
            ]
          },
          "metadata": {}
        },
        {
          "output_type": "display_data",
          "data": {
            "text/plain": [
              "<IPython.core.display.Javascript object>"
            ],
            "application/javascript": [
              "download(\"download_3ce23146-a1d4-46bc-ab64-cd55e10fe9b0\", \"chatbot.pdf\", 35336)"
            ]
          },
          "metadata": {}
        },
        {
          "output_type": "execute_result",
          "data": {
            "text/plain": [
              "'File ready to be Downloaded and Saved to Drive'"
            ],
            "application/vnd.google.colaboratory.intrinsic+json": {
              "type": "string"
            }
          },
          "metadata": {},
          "execution_count": 1
        }
      ]
    }
  ]
}